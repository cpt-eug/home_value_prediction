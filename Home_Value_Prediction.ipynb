{
 "cells": [
  {
   "cell_type": "code",
   "execution_count": 1,
   "id": "9dcaaf7e",
   "metadata": {},
   "outputs": [],
   "source": [
    "import pandas as pd\n",
    "import numpy as np\n",
    "import seaborn as sns\n",
    "import matplotlib.pyplot as plt"
   ]
  },
  {
   "cell_type": "markdown",
   "id": "6705377e",
   "metadata": {},
   "source": [
    "## Inital Checking of Data\n"
   ]
  },
  {
   "cell_type": "code",
   "execution_count": 2,
   "id": "4a03c84d",
   "metadata": {
    "scrolled": true
   },
   "outputs": [
    {
     "data": {
      "text/html": [
       "<div>\n",
       "<style scoped>\n",
       "    .dataframe tbody tr th:only-of-type {\n",
       "        vertical-align: middle;\n",
       "    }\n",
       "\n",
       "    .dataframe tbody tr th {\n",
       "        vertical-align: top;\n",
       "    }\n",
       "\n",
       "    .dataframe thead th {\n",
       "        text-align: right;\n",
       "    }\n",
       "</style>\n",
       "<table border=\"1\" class=\"dataframe\">\n",
       "  <thead>\n",
       "    <tr style=\"text-align: right;\">\n",
       "      <th></th>\n",
       "      <th>Avg. Area Income</th>\n",
       "      <th>Avg. Area House Age</th>\n",
       "      <th>Avg. Area Number of Rooms</th>\n",
       "      <th>Avg. Area Number of Bedrooms</th>\n",
       "      <th>Area Population</th>\n",
       "      <th>Price</th>\n",
       "      <th>Address</th>\n",
       "    </tr>\n",
       "  </thead>\n",
       "  <tbody>\n",
       "    <tr>\n",
       "      <th>0</th>\n",
       "      <td>79545.458574</td>\n",
       "      <td>5.682861</td>\n",
       "      <td>7.009188</td>\n",
       "      <td>4.09</td>\n",
       "      <td>23086.800503</td>\n",
       "      <td>1.059034e+06</td>\n",
       "      <td>208 Michael Ferry Apt. 674\\nLaurabury, NE 3701...</td>\n",
       "    </tr>\n",
       "    <tr>\n",
       "      <th>1</th>\n",
       "      <td>79248.642455</td>\n",
       "      <td>6.002900</td>\n",
       "      <td>6.730821</td>\n",
       "      <td>3.09</td>\n",
       "      <td>40173.072174</td>\n",
       "      <td>1.505891e+06</td>\n",
       "      <td>188 Johnson Views Suite 079\\nLake Kathleen, CA...</td>\n",
       "    </tr>\n",
       "    <tr>\n",
       "      <th>2</th>\n",
       "      <td>61287.067179</td>\n",
       "      <td>5.865890</td>\n",
       "      <td>8.512727</td>\n",
       "      <td>5.13</td>\n",
       "      <td>36882.159400</td>\n",
       "      <td>1.058988e+06</td>\n",
       "      <td>9127 Elizabeth Stravenue\\nDanieltown, WI 06482...</td>\n",
       "    </tr>\n",
       "    <tr>\n",
       "      <th>3</th>\n",
       "      <td>63345.240046</td>\n",
       "      <td>7.188236</td>\n",
       "      <td>5.586729</td>\n",
       "      <td>3.26</td>\n",
       "      <td>34310.242831</td>\n",
       "      <td>1.260617e+06</td>\n",
       "      <td>USS Barnett\\nFPO AP 44820</td>\n",
       "    </tr>\n",
       "    <tr>\n",
       "      <th>4</th>\n",
       "      <td>59982.197226</td>\n",
       "      <td>5.040555</td>\n",
       "      <td>7.839388</td>\n",
       "      <td>4.23</td>\n",
       "      <td>26354.109472</td>\n",
       "      <td>6.309435e+05</td>\n",
       "      <td>USNS Raymond\\nFPO AE 09386</td>\n",
       "    </tr>\n",
       "  </tbody>\n",
       "</table>\n",
       "</div>"
      ],
      "text/plain": [
       "   Avg. Area Income  Avg. Area House Age  Avg. Area Number of Rooms  \\\n",
       "0      79545.458574             5.682861                   7.009188   \n",
       "1      79248.642455             6.002900                   6.730821   \n",
       "2      61287.067179             5.865890                   8.512727   \n",
       "3      63345.240046             7.188236                   5.586729   \n",
       "4      59982.197226             5.040555                   7.839388   \n",
       "\n",
       "   Avg. Area Number of Bedrooms  Area Population         Price  \\\n",
       "0                          4.09     23086.800503  1.059034e+06   \n",
       "1                          3.09     40173.072174  1.505891e+06   \n",
       "2                          5.13     36882.159400  1.058988e+06   \n",
       "3                          3.26     34310.242831  1.260617e+06   \n",
       "4                          4.23     26354.109472  6.309435e+05   \n",
       "\n",
       "                                             Address  \n",
       "0  208 Michael Ferry Apt. 674\\nLaurabury, NE 3701...  \n",
       "1  188 Johnson Views Suite 079\\nLake Kathleen, CA...  \n",
       "2  9127 Elizabeth Stravenue\\nDanieltown, WI 06482...  \n",
       "3                          USS Barnett\\nFPO AP 44820  \n",
       "4                         USNS Raymond\\nFPO AE 09386  "
      ]
     },
     "execution_count": 2,
     "metadata": {},
     "output_type": "execute_result"
    }
   ],
   "source": [
    "url = 'https://raw.githubusercontent.com/huzaifsayed/Linear-Regression-Model-for-House-Price-Prediction/master/USA_Housing.csv'\n",
    "df = pd.read_csv(url)\n",
    "df.head()"
   ]
  },
  {
   "cell_type": "markdown",
   "id": "59e2b94b",
   "metadata": {},
   "source": [
    "**Definition of variables**\n",
    "\n",
    "- ‘Avg. Area Income’ – Avg. The income of the householder of the city house is located.\n",
    "- ‘Avg. Area House Age’ – Avg. Age of Houses in the same city.\n",
    "- ‘Avg. Area Number of Rooms’ – Avg. Number of Rooms for Houses in the same city.\n",
    "- ‘Avg. Area Number of Bedrooms’ – Avg. Number of Bedrooms for Houses in the same city.\n",
    "- ‘Area Population’ – Population of the city.\n",
    "- ‘Price’ – Price that the house sold at.\n",
    "- ‘Address’ – Address of the houses."
   ]
  },
  {
   "cell_type": "code",
   "execution_count": 3,
   "id": "09219bf3",
   "metadata": {},
   "outputs": [
    {
     "name": "stdout",
     "output_type": "stream",
     "text": [
      "<class 'pandas.core.frame.DataFrame'>\n",
      "RangeIndex: 5000 entries, 0 to 4999\n",
      "Data columns (total 7 columns):\n",
      " #   Column                        Non-Null Count  Dtype  \n",
      "---  ------                        --------------  -----  \n",
      " 0   Avg. Area Income              5000 non-null   float64\n",
      " 1   Avg. Area House Age           5000 non-null   float64\n",
      " 2   Avg. Area Number of Rooms     5000 non-null   float64\n",
      " 3   Avg. Area Number of Bedrooms  5000 non-null   float64\n",
      " 4   Area Population               5000 non-null   float64\n",
      " 5   Price                         5000 non-null   float64\n",
      " 6   Address                       5000 non-null   object \n",
      "dtypes: float64(6), object(1)\n",
      "memory usage: 273.6+ KB\n"
     ]
    }
   ],
   "source": [
    "df.info()"
   ]
  },
  {
   "cell_type": "markdown",
   "id": "4f1725b8",
   "metadata": {},
   "source": [
    "**Checking for missing values to increase accuracy of model**"
   ]
  },
  {
   "cell_type": "code",
   "execution_count": 4,
   "id": "e27ac4a6",
   "metadata": {},
   "outputs": [
    {
     "data": {
      "text/plain": [
       "Avg. Area Income                0\n",
       "Avg. Area House Age             0\n",
       "Avg. Area Number of Rooms       0\n",
       "Avg. Area Number of Bedrooms    0\n",
       "Area Population                 0\n",
       "Price                           0\n",
       "Address                         0\n",
       "dtype: int64"
      ]
     },
     "execution_count": 4,
     "metadata": {},
     "output_type": "execute_result"
    }
   ],
   "source": [
    "df.isnull().sum()"
   ]
  },
  {
   "cell_type": "markdown",
   "id": "9e86d829",
   "metadata": {},
   "source": [
    "**Since there are no missing data, we can check for the central tendency of data to have our baseline.\n",
    "We can use '.describe()' method to check for the values and plot to check the distribution of the data.**"
   ]
  },
  {
   "cell_type": "code",
   "execution_count": 5,
   "id": "2b6d33d2",
   "metadata": {},
   "outputs": [
    {
     "data": {
      "text/html": [
       "<div>\n",
       "<style scoped>\n",
       "    .dataframe tbody tr th:only-of-type {\n",
       "        vertical-align: middle;\n",
       "    }\n",
       "\n",
       "    .dataframe tbody tr th {\n",
       "        vertical-align: top;\n",
       "    }\n",
       "\n",
       "    .dataframe thead th {\n",
       "        text-align: right;\n",
       "    }\n",
       "</style>\n",
       "<table border=\"1\" class=\"dataframe\">\n",
       "  <thead>\n",
       "    <tr style=\"text-align: right;\">\n",
       "      <th></th>\n",
       "      <th>Avg. Area Income</th>\n",
       "      <th>Avg. Area House Age</th>\n",
       "      <th>Avg. Area Number of Rooms</th>\n",
       "      <th>Avg. Area Number of Bedrooms</th>\n",
       "      <th>Area Population</th>\n",
       "      <th>Price</th>\n",
       "    </tr>\n",
       "  </thead>\n",
       "  <tbody>\n",
       "    <tr>\n",
       "      <th>count</th>\n",
       "      <td>5000.000000</td>\n",
       "      <td>5000.000000</td>\n",
       "      <td>5000.000000</td>\n",
       "      <td>5000.000000</td>\n",
       "      <td>5000.000000</td>\n",
       "      <td>5.000000e+03</td>\n",
       "    </tr>\n",
       "    <tr>\n",
       "      <th>mean</th>\n",
       "      <td>68583.108984</td>\n",
       "      <td>5.977222</td>\n",
       "      <td>6.987792</td>\n",
       "      <td>3.981330</td>\n",
       "      <td>36163.516039</td>\n",
       "      <td>1.232073e+06</td>\n",
       "    </tr>\n",
       "    <tr>\n",
       "      <th>std</th>\n",
       "      <td>10657.991214</td>\n",
       "      <td>0.991456</td>\n",
       "      <td>1.005833</td>\n",
       "      <td>1.234137</td>\n",
       "      <td>9925.650114</td>\n",
       "      <td>3.531176e+05</td>\n",
       "    </tr>\n",
       "    <tr>\n",
       "      <th>min</th>\n",
       "      <td>17796.631190</td>\n",
       "      <td>2.644304</td>\n",
       "      <td>3.236194</td>\n",
       "      <td>2.000000</td>\n",
       "      <td>172.610686</td>\n",
       "      <td>1.593866e+04</td>\n",
       "    </tr>\n",
       "    <tr>\n",
       "      <th>25%</th>\n",
       "      <td>61480.562388</td>\n",
       "      <td>5.322283</td>\n",
       "      <td>6.299250</td>\n",
       "      <td>3.140000</td>\n",
       "      <td>29403.928702</td>\n",
       "      <td>9.975771e+05</td>\n",
       "    </tr>\n",
       "    <tr>\n",
       "      <th>50%</th>\n",
       "      <td>68804.286404</td>\n",
       "      <td>5.970429</td>\n",
       "      <td>7.002902</td>\n",
       "      <td>4.050000</td>\n",
       "      <td>36199.406689</td>\n",
       "      <td>1.232669e+06</td>\n",
       "    </tr>\n",
       "    <tr>\n",
       "      <th>75%</th>\n",
       "      <td>75783.338666</td>\n",
       "      <td>6.650808</td>\n",
       "      <td>7.665871</td>\n",
       "      <td>4.490000</td>\n",
       "      <td>42861.290769</td>\n",
       "      <td>1.471210e+06</td>\n",
       "    </tr>\n",
       "    <tr>\n",
       "      <th>max</th>\n",
       "      <td>107701.748378</td>\n",
       "      <td>9.519088</td>\n",
       "      <td>10.759588</td>\n",
       "      <td>6.500000</td>\n",
       "      <td>69621.713378</td>\n",
       "      <td>2.469066e+06</td>\n",
       "    </tr>\n",
       "  </tbody>\n",
       "</table>\n",
       "</div>"
      ],
      "text/plain": [
       "       Avg. Area Income  Avg. Area House Age  Avg. Area Number of Rooms  \\\n",
       "count       5000.000000          5000.000000                5000.000000   \n",
       "mean       68583.108984             5.977222                   6.987792   \n",
       "std        10657.991214             0.991456                   1.005833   \n",
       "min        17796.631190             2.644304                   3.236194   \n",
       "25%        61480.562388             5.322283                   6.299250   \n",
       "50%        68804.286404             5.970429                   7.002902   \n",
       "75%        75783.338666             6.650808                   7.665871   \n",
       "max       107701.748378             9.519088                  10.759588   \n",
       "\n",
       "       Avg. Area Number of Bedrooms  Area Population         Price  \n",
       "count                   5000.000000      5000.000000  5.000000e+03  \n",
       "mean                       3.981330     36163.516039  1.232073e+06  \n",
       "std                        1.234137      9925.650114  3.531176e+05  \n",
       "min                        2.000000       172.610686  1.593866e+04  \n",
       "25%                        3.140000     29403.928702  9.975771e+05  \n",
       "50%                        4.050000     36199.406689  1.232669e+06  \n",
       "75%                        4.490000     42861.290769  1.471210e+06  \n",
       "max                        6.500000     69621.713378  2.469066e+06  "
      ]
     },
     "execution_count": 5,
     "metadata": {},
     "output_type": "execute_result"
    }
   ],
   "source": [
    "df.describe()"
   ]
  },
  {
   "cell_type": "code",
   "execution_count": 6,
   "id": "2ba344f4",
   "metadata": {},
   "outputs": [
    {
     "data": {
      "text/plain": [
       "<seaborn.axisgrid.FacetGrid at 0x22199c147f0>"
      ]
     },
     "execution_count": 6,
     "metadata": {},
     "output_type": "execute_result"
    },
    {
     "data": {
      "image/png": "[encoded data removed]",
      "text/plain": [
       "<Figure size 360x360 with 1 Axes>"
      ]
     },
     "metadata": {
      "needs_background": "light"
     },
     "output_type": "display_data"
    }
   ],
   "source": [
    "sns.displot(df['Price'])"
   ]
  },
  {
   "cell_type": "markdown",
   "id": "d931ee3c",
   "metadata": {},
   "source": [
    "**Since the data is normally distributed we can proceed without needing to look for data-entry errors and/or outliers.**"
   ]
  },
  {
   "cell_type": "markdown",
   "id": "18b10f4b",
   "metadata": {},
   "source": [
    "## Checking for columns with correlation and Generating Model"
   ]
  },
  {
   "cell_type": "code",
   "execution_count": 7,
   "id": "817ea034",
   "metadata": {},
   "outputs": [
    {
     "data": {
      "text/plain": [
       "Index(['Avg. Area Income', 'Avg. Area House Age', 'Avg. Area Number of Rooms',\n",
       "       'Avg. Area Number of Bedrooms', 'Area Population', 'Price', 'Address'],\n",
       "      dtype='object')"
      ]
     },
     "execution_count": 7,
     "metadata": {},
     "output_type": "execute_result"
    }
   ],
   "source": [
    "df.columns"
   ]
  },
  {
   "cell_type": "markdown",
   "id": "8d71ddaa",
   "metadata": {},
   "source": [
    "**Visualizing the relationship between price and other factors**"
   ]
  },
  {
   "cell_type": "code",
   "execution_count": 8,
   "id": "ce29b9d3",
   "metadata": {},
   "outputs": [
    {
     "data": {
      "text/plain": [
       "Text(0.5, 1.0, 'Price vs Avg. Area Income')"
      ]
     },
     "execution_count": 8,
     "metadata": {},
     "output_type": "execute_result"
    },
    {
     "data": {
      "image/png": "[encoded data removed]",
      "text/plain": [
       "<Figure size 432x288 with 1 Axes>"
      ]
     },
     "metadata": {
      "needs_background": "light"
     },
     "output_type": "display_data"
    }
   ],
   "source": [
    "plt.scatter(y=df['Price'],x=df['Avg. Area Income'])\n",
    "plt.xlabel(\"Avg. Area Income\")\n",
    "plt.ylabel(\"Price\")\n",
    "plt.title(\"Price vs Avg. Area Income\")"
   ]
  },
  {
   "cell_type": "code",
   "execution_count": 9,
   "id": "0f7c81a6",
   "metadata": {},
   "outputs": [
    {
     "data": {
      "text/plain": [
       "Text(0.5, 1.0, 'Price vs Avg. Area House Age')"
      ]
     },
     "execution_count": 9,
     "metadata": {},
     "output_type": "execute_result"
    },
    {
     "data": {
      "image/png": "[encoded data removed]",
      "text/plain": [
       "<Figure size 432x288 with 1 Axes>"
      ]
     },
     "metadata": {
      "needs_background": "light"
     },
     "output_type": "display_data"
    }
   ],
   "source": [
    "plt.scatter(y=df['Price'],x=df['Avg. Area House Age'],color='g')\n",
    "plt.xlabel(\"Avg. Area House Age\")\n",
    "plt.ylabel(\"Price\")\n",
    "plt.title(\"Price vs Avg. Area House Age\")"
   ]
  },
  {
   "cell_type": "code",
   "execution_count": 10,
   "id": "f946646c",
   "metadata": {},
   "outputs": [
    {
     "data": {
      "text/plain": [
       "Text(0.5, 1.0, 'Price vs Avg. Area Number of Rooms')"
      ]
     },
     "execution_count": 10,
     "metadata": {},
     "output_type": "execute_result"
    },
    {
     "data": {
      "image/png": "[encoded data removed]",
      "text/plain": [
       "<Figure size 432x288 with 1 Axes>"
      ]
     },
     "metadata": {
      "needs_background": "light"
     },
     "output_type": "display_data"
    }
   ],
   "source": [
    "plt.scatter(y=df['Price'],x=df['Avg. Area Number of Rooms'],color='magenta')\n",
    "plt.xlabel(\"Avg. Area Number of Rooms\")\n",
    "plt.ylabel(\"Price\")\n",
    "plt.title(\"Price vs Avg. Area Number of Rooms\")"
   ]
  },
  {
   "cell_type": "code",
   "execution_count": 11,
   "id": "52e27ea7",
   "metadata": {},
   "outputs": [
    {
     "data": {
      "text/plain": [
       "Text(0.5, 1.0, 'Price vs Avg. Area Number of Bedrooms')"
      ]
     },
     "execution_count": 11,
     "metadata": {},
     "output_type": "execute_result"
    },
    {
     "data": {
      "image/png": "[encoded data removed]",
      "text/plain": [
       "<Figure size 432x288 with 1 Axes>"
      ]
     },
     "metadata": {
      "needs_background": "light"
     },
     "output_type": "display_data"
    }
   ],
   "source": [
    "plt.scatter(y=df['Price'],x=df['Avg. Area Number of Bedrooms'],color='orange')\n",
    "plt.xlabel(\"Avg. Area Number of Bedrooms\")\n",
    "plt.ylabel(\"Price\")\n",
    "plt.title(\"Price vs Avg. Area Number of Bedrooms\")"
   ]
  },
  {
   "cell_type": "code",
   "execution_count": 12,
   "id": "a4638769",
   "metadata": {},
   "outputs": [
    {
     "data": {
      "text/plain": [
       "Text(0.5, 1.0, 'Price vs Area Population')"
      ]
     },
     "execution_count": 12,
     "metadata": {},
     "output_type": "execute_result"
    },
    {
     "data": {
      "image/png": "[encoded data removed]",
      "text/plain": [
       "<Figure size 432x288 with 1 Axes>"
      ]
     },
     "metadata": {
      "needs_background": "light"
     },
     "output_type": "display_data"
    }
   ],
   "source": [
    "plt.scatter(y=df['Price'],x=df['Area Population'],color='y')\n",
    "plt.xlabel(\"Area Populations\")\n",
    "plt.ylabel(\"Price\")\n",
    "plt.title(\"Price vs Area Population\")"
   ]
  },
  {
   "cell_type": "markdown",
   "id": "6ab4bb05",
   "metadata": {},
   "source": [
    "We can see that all factors are directly proportional with price. Meaning the price increase with the factors."
   ]
  },
  {
   "cell_type": "markdown",
   "id": "662c78cd",
   "metadata": {},
   "source": [
    "Next, we need to check what factors are strongly correlated with price."
   ]
  },
  {
   "cell_type": "code",
   "execution_count": 13,
   "id": "082d978d",
   "metadata": {},
   "outputs": [
    {
     "name": "stdout",
     "output_type": "stream",
     "text": [
      "0.639733778249894\n",
      "0.45254253717875587\n",
      "0.33566445336675976\n",
      "0.17107102765855592\n",
      "0.4085558793165563\n"
     ]
    }
   ],
   "source": [
    "print(df['Price'].corr(df['Avg. Area Income']))\n",
    "print(df['Price'].corr(df['Avg. Area House Age']))\n",
    "print(df['Price'].corr(df['Avg. Area Number of Rooms']))\n",
    "print(df['Price'].corr(df['Avg. Area Number of Bedrooms']))\n",
    "print(df['Price'].corr(df['Area Population']))\n"
   ]
  },
  {
   "cell_type": "markdown",
   "id": "fdaf9a3c",
   "metadata": {},
   "source": [
    "Values greater than .5 have strong relationship.\n",
    "Values between .3 and .5 have moderate relationship.\n",
    "\n",
    "For this example, 'Avg. Area Number of Bedrooms' will be excluded."
   ]
  },
  {
   "cell_type": "markdown",
   "id": "93972a1a",
   "metadata": {},
   "source": [
    "**Assigning the dependent and independent variables**"
   ]
  },
  {
   "cell_type": "markdown",
   "id": "b2586c73",
   "metadata": {},
   "source": [
    "We will assign the factors we are considering to X  and price as y and use them to train and test the model.\n",
    "\n",
    "\n",
    "To check the behavior of the model when introducing new data, we can use 'train_test_split'\n",
    " - Train data - creates the model\n",
    " - Test data - checks the accuracy of the model"
   ]
  },
  {
   "cell_type": "code",
   "execution_count": 14,
   "id": "5884c91b",
   "metadata": {},
   "outputs": [],
   "source": [
    "from sklearn.model_selection import train_test_split\n",
    "\n",
    "X = df[['Avg. Area Income', 'Avg. Area House Age', 'Avg. Area Number of Rooms', 'Area Population']]\n",
    "y = df['Price']\n",
    "\n",
    "X_train, X_test, y_train, y_test = train_test_split(X, y, test_size=0.4, random_state=101) "
   ]
  },
  {
   "cell_type": "markdown",
   "id": "595fefc0",
   "metadata": {},
   "source": [
    "In this example, we will use 40% of the data to test the model and 60% for training.\n",
    "<br>"
   ]
  },
  {
   "cell_type": "markdown",
   "id": "097c5d10",
   "metadata": {},
   "source": [
    "**Generating and Training the LinearRegression Model**"
   ]
  },
  {
   "cell_type": "code",
   "execution_count": 15,
   "id": "847be443",
   "metadata": {},
   "outputs": [
    {
     "data": {
      "text/html": [
       "<style>#sk-container-id-1 {color: black;background-color: white;}#sk-container-id-1 pre{padding: 0;}#sk-container-id-1 div.sk-toggleable {background-color: white;}#sk-container-id-1 label.sk-toggleable__label {cursor: pointer;display: block;width: 100%;margin-bottom: 0;padding: 0.3em;box-sizing: border-box;text-align: center;}#sk-container-id-1 label.sk-toggleable__label-arrow:before {content: \"▸\";float: left;margin-right: 0.25em;color: #696969;}#sk-container-id-1 label.sk-toggleable__label-arrow:hover:before {color: black;}#sk-container-id-1 div.sk-estimator:hover label.sk-toggleable__label-arrow:before {color: black;}#sk-container-id-1 div.sk-toggleable__content {max-height: 0;max-width: 0;overflow: hidden;text-align: left;background-color: #f0f8ff;}#sk-container-id-1 div.sk-toggleable__content pre {margin: 0.2em;color: black;border-radius: 0.25em;background-color: #f0f8ff;}#sk-container-id-1 input.sk-toggleable__control:checked~div.sk-toggleable__content {max-height: 200px;max-width: 100%;overflow: auto;}#sk-container-id-1 input.sk-toggleable__control:checked~label.sk-toggleable__label-arrow:before {content: \"▾\";}#sk-container-id-1 div.sk-estimator input.sk-toggleable__control:checked~label.sk-toggleable__label {background-color: #d4ebff;}#sk-container-id-1 div.sk-label input.sk-toggleable__control:checked~label.sk-toggleable__label {background-color: #d4ebff;}#sk-container-id-1 input.sk-hidden--visually {border: 0;clip: rect(1px 1px 1px 1px);clip: rect(1px, 1px, 1px, 1px);height: 1px;margin: -1px;overflow: hidden;padding: 0;position: absolute;width: 1px;}#sk-container-id-1 div.sk-estimator {font-family: monospace;background-color: #f0f8ff;border: 1px dotted black;border-radius: 0.25em;box-sizing: border-box;margin-bottom: 0.5em;}#sk-container-id-1 div.sk-estimator:hover {background-color: #d4ebff;}#sk-container-id-1 div.sk-parallel-item::after {content: \"\";width: 100%;border-bottom: 1px solid gray;flex-grow: 1;}#sk-container-id-1 div.sk-label:hover label.sk-toggleable__label {background-color: #d4ebff;}#sk-container-id-1 div.sk-serial::before {content: \"\";position: absolute;border-left: 1px solid gray;box-sizing: border-box;top: 0;bottom: 0;left: 50%;z-index: 0;}#sk-container-id-1 div.sk-serial {display: flex;flex-direction: column;align-items: center;background-color: white;padding-right: 0.2em;padding-left: 0.2em;position: relative;}#sk-container-id-1 div.sk-item {position: relative;z-index: 1;}#sk-container-id-1 div.sk-parallel {display: flex;align-items: stretch;justify-content: center;background-color: white;position: relative;}#sk-container-id-1 div.sk-item::before, #sk-container-id-1 div.sk-parallel-item::before {content: \"\";position: absolute;border-left: 1px solid gray;box-sizing: border-box;top: 0;bottom: 0;left: 50%;z-index: -1;}#sk-container-id-1 div.sk-parallel-item {display: flex;flex-direction: column;z-index: 1;position: relative;background-color: white;}#sk-container-id-1 div.sk-parallel-item:first-child::after {align-self: flex-end;width: 50%;}#sk-container-id-1 div.sk-parallel-item:last-child::after {align-self: flex-start;width: 50%;}#sk-container-id-1 div.sk-parallel-item:only-child::after {width: 0;}#sk-container-id-1 div.sk-dashed-wrapped {border: 1px dashed gray;margin: 0 0.4em 0.5em 0.4em;box-sizing: border-box;padding-bottom: 0.4em;background-color: white;}#sk-container-id-1 div.sk-label label {font-family: monospace;font-weight: bold;display: inline-block;line-height: 1.2em;}#sk-container-id-1 div.sk-label-container {text-align: center;}#sk-container-id-1 div.sk-container {/* jupyter's `normalize.less` sets `[hidden] { display: none; }` but bootstrap.min.css set `[hidden] { display: none !important; }` so we also need the `!important` here to be able to override the default hidden behavior on the sphinx rendered scikit-learn.org. See: https://github.com/scikit-learn/scikit-learn/issues/21755 */display: inline-block !important;position: relative;}#sk-container-id-1 div.sk-text-repr-fallback {display: none;}</style><div id=\"sk-container-id-1\" class=\"sk-top-container\"><div class=\"sk-text-repr-fallback\"><pre>LinearRegression()</pre><b>In a Jupyter environment, please rerun this cell to show the HTML representation or trust the notebook. <br />On GitHub, the HTML representation is unable to render, please try loading this page with nbviewer.org.</b></div><div class=\"sk-container\" hidden><div class=\"sk-item\"><div class=\"sk-estimator sk-toggleable\"><input class=\"sk-toggleable__control sk-hidden--visually\" id=\"sk-estimator-id-1\" type=\"checkbox\" checked><label for=\"sk-estimator-id-1\" class=\"sk-toggleable__label sk-toggleable__label-arrow\">LinearRegression</label><div class=\"sk-toggleable__content\"><pre>LinearRegression()</pre></div></div></div></div></div>"
      ],
      "text/plain": [
       "LinearRegression()"
      ]
     },
     "execution_count": 15,
     "metadata": {},
     "output_type": "execute_result"
    }
   ],
   "source": [
    "from sklearn.linear_model import LinearRegression \n",
    "\n",
    "line_eq = LinearRegression() \n",
    "\n",
    "line_eq.fit(X_train,y_train) "
   ]
  },
  {
   "cell_type": "markdown",
   "id": "1ae65ce6",
   "metadata": {},
   "source": [
    "**Checking the accuracy of the model visually**"
   ]
  },
  {
   "cell_type": "code",
   "execution_count": 16,
   "id": "80e97417",
   "metadata": {},
   "outputs": [
    {
     "data": {
      "image/png": "[encoded data removed]",
      "text/plain": [
       "<Figure size 432x288 with 1 Axes>"
      ]
     },
     "metadata": {
      "needs_background": "light"
     },
     "output_type": "display_data"
    }
   ],
   "source": [
    "# https://sweetcode.io/simple-multiple-linear-regression-python-scikit/\n",
    "y_predicted = line_eq.predict(X_test)\n",
    "fig, ax = plt.subplots()\n",
    "ax.scatter(y_test, y_predicted)\n",
    "ax.plot([y_test.min(), y_test.max()], [y_test.min(), y_test.max()], 'k--', lw=4)\n",
    "ax.set_xlabel('measured')\n",
    "ax.set_ylabel('predicted')\n",
    "plt.show()"
   ]
  },
  {
   "cell_type": "markdown",
   "id": "c2da5ff0",
   "metadata": {},
   "source": [
    "Checking the performance of our data visually, we can see the predictions as a straight line passing through all of the training data. <br>This means that our model performed well."
   ]
  },
  {
   "cell_type": "markdown",
   "id": "58d7ba48",
   "metadata": {},
   "source": [
    "**Checking the accuracy of the model using coefficient of determination**"
   ]
  },
  {
   "cell_type": "markdown",
   "id": "94c8bed1",
   "metadata": {},
   "source": [
    "We can use R^2 or coefficient of determination as a gauge of our model's accuracy.\n",
    "<br> The closer it is to 1, the more accurate it is.\n",
    "<br> Luckily, scikit has a built in [method](https://scikit-learn.org/stable/modules/generated/sklearn.dummy.DummyRegressor.html#sklearn.dummy.DummyRegressor.score) to calculate it."
   ]
  },
  {
   "cell_type": "code",
   "execution_count": 17,
   "id": "c3303c52",
   "metadata": {},
   "outputs": [
    {
     "data": {
      "text/plain": [
       "0.9176956255444629"
      ]
     },
     "execution_count": 17,
     "metadata": {},
     "output_type": "execute_result"
    }
   ],
   "source": [
    "line_eq.score(X_test,y_test)"
   ]
  },
  {
   "cell_type": "markdown",
   "id": "d8c79ced",
   "metadata": {},
   "source": [
    "Since, the R^2 is close to 1 we can proceed to use this model and test using a row of our data."
   ]
  },
  {
   "cell_type": "markdown",
   "id": "4c6cca6e",
   "metadata": {},
   "source": [
    "**Generating the formula**"
   ]
  },
  {
   "cell_type": "markdown",
   "id": "a670e9bc",
   "metadata": {},
   "source": [
    "The general linear formula is $y=mx+b$\n",
    "<br>\n",
    "<br> We need to get the intercept and the coeffecient.\n",
    "<br> Coefficient depends on how many factors we consider.\n",
    "<br> Since we considered 4 factors, we will need 4 coefficients."
   ]
  },
  {
   "cell_type": "markdown",
   "id": "2ad7dd0f",
   "metadata": {},
   "source": [
    "**To get the intercept:**"
   ]
  },
  {
   "cell_type": "code",
   "execution_count": 18,
   "id": "16d1daa6",
   "metadata": {},
   "outputs": [
    {
     "name": "stdout",
     "output_type": "stream",
     "text": [
      "-2640459.277768251\n"
     ]
    }
   ],
   "source": [
    "print(line_eq.intercept_)"
   ]
  },
  {
   "cell_type": "markdown",
   "id": "88e29ee8",
   "metadata": {},
   "source": [
    "**To get the coefficients:**"
   ]
  },
  {
   "cell_type": "code",
   "execution_count": 19,
   "id": "30b4f7bb",
   "metadata": {},
   "outputs": [
    {
     "data": {
      "text/html": [
       "<div>\n",
       "<style scoped>\n",
       "    .dataframe tbody tr th:only-of-type {\n",
       "        vertical-align: middle;\n",
       "    }\n",
       "\n",
       "    .dataframe tbody tr th {\n",
       "        vertical-align: top;\n",
       "    }\n",
       "\n",
       "    .dataframe thead th {\n",
       "        text-align: right;\n",
       "    }\n",
       "</style>\n",
       "<table border=\"1\" class=\"dataframe\">\n",
       "  <thead>\n",
       "    <tr style=\"text-align: right;\">\n",
       "      <th></th>\n",
       "      <th>Coefficient</th>\n",
       "    </tr>\n",
       "  </thead>\n",
       "  <tbody>\n",
       "    <tr>\n",
       "      <th>Avg. Area Income</th>\n",
       "      <td>21.528348</td>\n",
       "    </tr>\n",
       "    <tr>\n",
       "      <th>Avg. Area House Age</th>\n",
       "      <td>164953.468397</td>\n",
       "    </tr>\n",
       "    <tr>\n",
       "      <th>Avg. Area Number of Rooms</th>\n",
       "      <td>123655.616725</td>\n",
       "    </tr>\n",
       "    <tr>\n",
       "      <th>Area Population</th>\n",
       "      <td>15.143711</td>\n",
       "    </tr>\n",
       "  </tbody>\n",
       "</table>\n",
       "</div>"
      ],
      "text/plain": [
       "                             Coefficient\n",
       "Avg. Area Income               21.528348\n",
       "Avg. Area House Age        164953.468397\n",
       "Avg. Area Number of Rooms  123655.616725\n",
       "Area Population                15.143711"
      ]
     },
     "execution_count": 19,
     "metadata": {},
     "output_type": "execute_result"
    }
   ],
   "source": [
    "pd.DataFrame(line_eq.coef_,X.columns,columns=['Coefficient'])"
   ]
  },
  {
   "cell_type": "markdown",
   "id": "00a61a72",
   "metadata": {},
   "source": [
    "**We can also use the coefficients directly by accessing it's location**"
   ]
  },
  {
   "cell_type": "code",
   "execution_count": 20,
   "id": "f796180c",
   "metadata": {},
   "outputs": [
    {
     "name": "stdout",
     "output_type": "stream",
     "text": [
      "[2.15283483e+01 1.64953468e+05 1.23655617e+05 1.51437108e+01]\n"
     ]
    }
   ],
   "source": [
    "print(line_eq.coef_)"
   ]
  },
  {
   "cell_type": "markdown",
   "id": "cdab6962",
   "metadata": {},
   "source": [
    "**From the coefficients and intercept, we can now represent the model.**\n",
    "\n",
    " - coeff_1 = line_eq.intercept_[0]\n",
    " - coeff_2 = line_eq.intercept_[1]\n",
    " - coeff_3 = line_eq.intercept_[2]\n",
    " - coeff_4 = line_eq.intercept_[3]\n",
    "\n",
    " - x1 = Avg. Area Income\n",
    " - x2 = Avg. Area House Age\n",
    " - x3 = Avg. Area Number of Rooms\n",
    " - x4 = Area Population\n",
    "\n",
    " - intercept_price = line_eq.intercept_\n",
    " - y = price prediction\n",
    "\n",
    "Formula:\n",
    "> y = (coeff_1 * x1) + (coeff_2 * x2) + (coeff_3 * x3) + (coeff_4 * x4) + intercept_price\n"
   ]
  },
  {
   "cell_type": "code",
   "execution_count": 21,
   "id": "1b186828",
   "metadata": {},
   "outputs": [],
   "source": [
    "def price_predict(income,age,rooms,population):\n",
    "    return round((line_eq.coef_[0] * income) + (line_eq.coef_[1] * age) + (line_eq.coef_[2] * rooms) + (line_eq.coef_[3] * population) + line_eq.intercept_,2)\n",
    "         \n",
    "    "
   ]
  },
  {
   "cell_type": "markdown",
   "id": "a2939924",
   "metadata": {},
   "source": [
    "**To check our formula we will use the first row on our dataset**"
   ]
  },
  {
   "cell_type": "code",
   "execution_count": 22,
   "id": "6beb6435",
   "metadata": {},
   "outputs": [
    {
     "data": {
      "text/plain": [
       "Avg. Area Income             66774.995817\n",
       "Avg. Area House Age              5.717143\n",
       "Avg. Area Number of Rooms        7.795215\n",
       "Area Population              36788.980327\n",
       "Name: 1718, dtype: float64"
      ]
     },
     "execution_count": 22,
     "metadata": {},
     "output_type": "execute_result"
    }
   ],
   "source": [
    "X_test.iloc[0]"
   ]
  },
  {
   "cell_type": "code",
   "execution_count": 23,
   "id": "cbb5f8e1",
   "metadata": {},
   "outputs": [
    {
     "data": {
      "text/plain": [
       "1261202.45"
      ]
     },
     "execution_count": 23,
     "metadata": {},
     "output_type": "execute_result"
    }
   ],
   "source": [
    "y_func = price_predict(66774.995817,5.717143,7.795215,36788.980327)\n",
    "y_func"
   ]
  },
  {
   "cell_type": "markdown",
   "id": "548d5514",
   "metadata": {},
   "source": [
    "We will compare our formula with the built-in 'predict' method to check accuracy. \n",
    "<br>Since we used the first row of the 'X_test' we will only print the first value of the result."
   ]
  },
  {
   "cell_type": "code",
   "execution_count": 24,
   "id": "37fdaa26",
   "metadata": {},
   "outputs": [
    {
     "data": {
      "text/plain": [
       "1261202.46"
      ]
     },
     "execution_count": 24,
     "metadata": {},
     "output_type": "execute_result"
    }
   ],
   "source": [
    "y_method = line_eq.predict(X_test)\n",
    "y_predict = y_method[0]\n",
    "round(y_predict,2)"
   ]
  },
  {
   "cell_type": "markdown",
   "id": "77b68df3",
   "metadata": {},
   "source": [
    "Percent difference of the function and predict method:"
   ]
  },
  {
   "cell_type": "code",
   "execution_count": 25,
   "id": "aa31e629",
   "metadata": {},
   "outputs": [
    {
     "name": "stdout",
     "output_type": "stream",
     "text": [
      "9.331649926382298e-07\n"
     ]
    }
   ],
   "source": [
    "print((y_predict-y_func)*100/y_predict)"
   ]
  },
  {
   "cell_type": "markdown",
   "id": "4e637136",
   "metadata": {},
   "source": [
    "**Since this data is from 2019, we need to include the inflation to estimate future prices**\n",
    "<br>We will use te average inflation rate as 3.6%: https://www.inflationtool.com/us-dollar\n",
    "> inflation rate = 3.6 ** (target year - 2019)"
   ]
  },
  {
   "cell_type": "markdown",
   "id": "85c233ff",
   "metadata": {},
   "source": [
    "To avoid negative price, we will set the minimum value to USD15938.66 which is the smallest value in the dataset.\n",
    "<br>This is done in case the value of the price becomes negative after the computation.\n",
    "<br>The minimum value will also be adjusted according to inflation"
   ]
  },
  {
   "cell_type": "code",
   "execution_count": 26,
   "id": "44ae06c7",
   "metadata": {},
   "outputs": [
    {
     "data": {
      "text/plain": [
       "-1418352.56"
      ]
     },
     "execution_count": 26,
     "metadata": {},
     "output_type": "execute_result"
    }
   ],
   "source": [
    "min_value = price_predict(17796.631190,2.644304,3.236194,172.610686)\n",
    "min_value"
   ]
  },
  {
   "cell_type": "code",
   "execution_count": 27,
   "id": "67cbac2f",
   "metadata": {},
   "outputs": [],
   "source": [
    "def price_predict_inf(income,age,rooms,population,tgt_year):\n",
    "    y = (line_eq.coef_[0] * income) + (line_eq.coef_[1] * age) + (line_eq.coef_[2] * rooms) + (line_eq.coef_[3] * population) + line_eq.intercept_\n",
    "    inf_rate = 1 + (0.036 ** (tgt_year-2019))\n",
    "    if y < 0:\n",
    "        y = 15938.66\n",
    "    est_price = y * inf_rate\n",
    "    return '${:,.2f}'.format(est_price)"
   ]
  },
  {
   "cell_type": "code",
   "execution_count": 28,
   "id": "4d06a110",
   "metadata": {},
   "outputs": [
    {
     "name": "stdout",
     "output_type": "stream",
     "text": [
      "$1,261,261.29\n"
     ]
    }
   ],
   "source": [
    "print(price_predict_inf(66774.995817,5.717143,7.795215,36788.980327,2022))"
   ]
  },
  {
   "cell_type": "markdown",
   "id": "362400fa",
   "metadata": {},
   "source": [
    "## Conclusion"
   ]
  },
  {
   "cell_type": "markdown",
   "id": "f36868aa",
   "metadata": {},
   "source": [
    "We have tested that our model is accurate, and since the difference between the built in function and our formula is small.\n",
    "<br>We can safely say that, inside our area of interest, we can use this formula to estimate the price of the property:\n",
    "<br>\n",
    "$y=((x1 * 21.53) + (x2 * 164953.47) + (x3 * \t123655.62) + (x4 * 15.14) - 2640459.28)*(1 + inf)$\n",
    "<br>\n",
    "<br>\n",
    "Where:\n",
    " - x1 = Avg. Area Income\n",
    " - x2 = Avg. Area House Age\n",
    " - x3 = Avg. Area Number of Rooms\n",
    " - x4 = Area Population\n",
    " - inf = 0.036 ** (target_year - 2019)"
   ]
  },
  {
   "cell_type": "markdown",
   "id": "edb3f6fb",
   "metadata": {},
   "source": [
    "**Testing the model**\n",
    "\n",
    "<br>Assuming a person would like to know the price of a house with:\n",
    "<br>Avg. Area Income – 50000\n",
    "<br>Avg. Area House Age – 8\n",
    "<br>Avg. Area Number of Rooms’ – 4\n",
    "<br>Area Population’ – 8000\n",
    "<br>Target year = 2030\n",
    "<br><br>The value will be:"
   ]
  },
  {
   "cell_type": "code",
   "execution_count": 29,
   "id": "78c4c31c",
   "metadata": {},
   "outputs": [
    {
     "name": "stdout",
     "output_type": "stream",
     "text": [
      "$371,358.04\n"
     ]
    }
   ],
   "source": [
    "print(price_predict_inf(50000,8,4,8000,2030))"
   ]
  },
  {
   "cell_type": "code",
   "execution_count": null,
   "id": "1b370a67",
   "metadata": {},
   "outputs": [],
   "source": []
  }
 ],
 "metadata": {
  "kernelspec": {
   "display_name": "Python 3 (ipykernel)",
   "language": "python",
   "name": "python3"
  },
  "language_info": {
   "codemirror_mode": {
    "name": "ipython",
    "version": 3
   },
   "file_extension": ".py",
   "mimetype": "text/x-python",
   "name": "python",
   "nbconvert_exporter": "python",
   "pygments_lexer": "ipython3",
   "version": "3.9.5"
  }
 },
 "nbformat": 4,
 "nbformat_minor": 5
}
